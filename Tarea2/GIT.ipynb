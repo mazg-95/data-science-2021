{
 "cells": [
  {
   "cell_type": "markdown",
   "metadata": {},
   "source": [
    "# Tarea 2\n",
    "### Por Marco Zuñiga\n",
    "\n",
    "## Fundametos de GIT\n",
    "\n",
    "    \n",
    "### Que es un VCS?\n",
    "Los sistemas de control de versiones (VCSs) nos ayudan habilitando el seguimiento del hisotrial de cambios sobre una coleccion de archivos y directorios. Es una herramienta poderosa ya que no se limita a archivos de un tipo especifico, por lo que permite introducir un control de versiones a cualquier proyecto. El control de cambios se lleva a cabo almacenando instantaneas ordenadas e incrementales junto con informacion imporante como la persona que tomo cada instantanea y un mensaje. \n",
    "\n",
    "Estas herramientas habilita a los equipos a colaborar y coordinar esfuerzos de un forma sencilla. Permitiendo a diferentes personas trabajar en diferentes archivos o incluso el mismo archivo en diferentes ramas. Es una gran ventaja poder ver instantaneas anteriores de los cambios y ver como se ha modificado el proyecto o la diferencia entre instantaneas.\n",
    "\n",
    "### GIT\n",
    "Fue creado por Linus Torvalds, en su busqueda por un sistema de control de versiones que fuera eficiente, confiable, enfatizando que fuera distribuido y open source para el proyecto de Linux Kernel. Por estas razones y ante la falta de opciones, Linus Torvalds decidio implementar GIT para satisfacer las necesidades para el proyecto. Ya que en ese momento utilizaban BitKeeper, otra herramienta para el control de codigo fuente que tenia algunas deficiencias (renombrado), ademas de no ser codigo libre. \\[[1]\\]\n",
    "\n",
    "Desde entonces GIT ha ganado popularidad siendo al dia de hoy practicamente el standard para VCSs de la industria. El exito en la gran adopcion de GIT es la facilidad y confiabilidad para trabajar copias locales que permiten a un equipo trabajar colaborativamente en sus propio repositorios, sin preocupaciones por permisos de escritura en el repositorio. \n",
    "\n",
    "Lo que diferencia a GIT de otros manejadores de versiones, como CVS o SVN , es que cada desarrollador puede tener su copia de trabajo del código en local, permitiendo también tener un historial completo de los cambios. \n",
    "\n",
    "\n",
    "[1]:https://www.linuxfoundation.org/blog/10-years-of-git-an-interview-with-git-creator-linus-torvalds/\n",
    "\n",
    "#### Como funciona GIT?\n",
    "GIT soporta varios funciones que permiten a los equipos trabajar en un mismo proyecto habilitando la colaboracion, no solamente guarda el historial de cambios sino tambien soporta el manejo de branches.\n",
    "\n",
    "GIT tiene un modelo sencillo que se basa en archivos, directorios, snapshots, referencias y metadata. En GIT un archivo se le nombra \"blob\" representando un arreglo de bytes, un directorio es un \"arbol\" que puede contener archivos u otros arboles (directorios). GIT lleva un mapeo de nombres hacia blobs o arboles. Un snapshot es la raiz del arbol que a la que se le esta siguiendo la pista. Los snapshots se enlazan para llevar el historial de cambios. GIT utiliza un grafo aciclico dirigido (DAG) de snapshots para llevar ese control. Lo que significa es que un snapshot puede tener varios snapshots padres o predecesores. Esto permite que dos contribuyentes del proyecto puedan trabajar en dos branch distintas. Partan de un snapshot base, y al momento de querer juntar sus esfuerzos se haga un snapshot que refleje esa union de los cambios de ambas branches. Los snapshots en GIT o commits son inmutables. Eso quiere decir que una vez hecho el commit (y por tanto identificado por un SHA) este no puede modificarse. Si es necesario corregir algo, requerira que nosotros hagamos un nuevo commit o al momento de \"editar\" el commmit (ammend) se genere una nueva referencia (SHA) que identifique al nuevo commit y remplazando a la anterior referencia. \n",
    "\n",
    "Entonces resumiendo la parte central de GIT es la forma es su modelo, un commit va a estar conformado por:\n",
    "- Listado de padres\n",
    "- Autor del commit, \n",
    "- Mensaje\n",
    "- Snapshot (la raiz del arbol). \n",
    "\n",
    "Y con esta estructura de datos se modelara el grafo que representara el historial de un repositorio. Ahora como es que GIT relaciona los contenidos de cada uno de los commits o arboles? GIT se basa en hashes SHA para identificar objetos. GIT almacena todo como un objeto, un blob, directorio o commit. Y estos se pueden acceder a traves de su hash. En GIT cuando un objeto hace referencia a otro objeto, realmente lo que tiene es una referencia por su hash; no una copia del objeto u otra representacion. Pero un hash tiene 40 caracteres hexadecimales, no es una forma facil de usar o navegar por el historial para un ser humano. Pero GIT tambien provee un forma simple para referise a un punto especifico en el historial de snapshots. El mas conocido es la referencia *master*, y normalmente en un proyecto *master* apunta al commit mas actualizado y estable del repositorio. Otra referencia muy importante es *HEAD*, esta responde a la pregunta donde estamos actualmente en la historia del repositorio. Repositorio es la terminologia utilizada para hacer referencia al directorio y este se compone por los objetos y referencias. Esto es lo que se almacena en disco y sobre lo que se basa GIT para habilitar las funcionalidades de colaboracio e historia de cambios. Por lo que cuando estamos ejecutando comandos de GIT sobre un repositorio,  lo que realmente estamos aplicando son cambios y manipulando el grafo de commits al agregar objetos y modificar referencias.\n",
    "\n",
    "GIT nos permite utilizar nuestra copia local como un sandbox. Ahi podemos hacer los cambios que querramos y no necesitamos pedir permisos de escritura como en otras herramientas. Pero ademas GIT agrega otro concepto mas para permitir al usuario elegir que cambios desea agregar a la estructura de commits. A esta area se le nombre de *Staging*. Aqui la persona que realizo los cambios sobre distintos archivos, puede elegir agregarlos al area de *Staging* donde se alistaran y agregara un comentario describiendo los cambios. De esta forma GIT permite acomodar los cambios con una gran flexibilidad. \n",
    "\n",
    "\n",
    "Algunos comandos que nos permiten manipular o nos dan informacion acerca de nuestro repositorio:\n"
   ]
  },
  {
   "cell_type": "code",
   "execution_count": 1,
   "metadata": {},
   "outputs": [
    {
     "data": {
      "text/plain": [
       "['On branch main',\n",
       " \"Your branch is up to date with 'origin/main'.\",\n",
       " '',\n",
       " 'Changes not staged for commit:',\n",
       " '  (use \"git add <file>...\" to update what will be committed)',\n",
       " '  (use \"git restore <file>...\" to discard changes in working directory)',\n",
       " '\\tmodified:   GIT.ipynb',\n",
       " '',\n",
       " 'no changes added to commit (use \"git add\" and/or \"git commit -a\")']"
      ]
     },
     "execution_count": 1,
     "metadata": {},
     "output_type": "execute_result"
    }
   ],
   "source": [
    "\"\"\" git status nos permite ver el estado actual de nuestro repositorio \"\"\"\n",
    "%sx git status\n"
   ]
  },
  {
   "cell_type": "code",
   "execution_count": 2,
   "metadata": {},
   "outputs": [
    {
     "data": {
      "text/plain": [
       "['usage: git [--version] [--help] [-C <path>] [-c <name>=<value>]',\n",
       " '           [--exec-path[=<path>]] [--html-path] [--man-path] [--info-path]',\n",
       " '           [-p | --paginate | -P | --no-pager] [--no-replace-objects] [--bare]',\n",
       " '           [--git-dir=<path>] [--work-tree=<path>] [--namespace=<name>]',\n",
       " '           <command> [<args>]',\n",
       " '',\n",
       " 'These are common Git commands used in various situations:',\n",
       " '',\n",
       " 'start a working area (see also: git help tutorial)',\n",
       " '   clone             Clone a repository into a new directory',\n",
       " '   init              Create an empty Git repository or reinitialize an existing one',\n",
       " '',\n",
       " 'work on the current change (see also: git help everyday)',\n",
       " '   add               Add file contents to the index',\n",
       " '   mv                Move or rename a file, a directory, or a symlink',\n",
       " '   restore           Restore working tree files',\n",
       " '   rm                Remove files from the working tree and from the index',\n",
       " '   sparse-checkout   Initialize and modify the sparse-checkout',\n",
       " '',\n",
       " 'examine the history and state (see also: git help revisions)',\n",
       " '   bisect            Use binary search to find the commit that introduced a bug',\n",
       " '   diff              Show changes between commits, commit and working tree, etc',\n",
       " '   grep              Print lines matching a pattern',\n",
       " '   log               Show commit logs',\n",
       " '   show              Show various types of objects',\n",
       " '   status            Show the working tree status',\n",
       " '',\n",
       " 'grow, mark and tweak your common history',\n",
       " '   branch            List, create, or delete branches',\n",
       " '   commit            Record changes to the repository',\n",
       " '   merge             Join two or more development histories together',\n",
       " '   rebase            Reapply commits on top of another base tip',\n",
       " '   reset             Reset current HEAD to the specified state',\n",
       " '   switch            Switch branches',\n",
       " '   tag               Create, list, delete or verify a tag object signed with GPG',\n",
       " '',\n",
       " 'collaborate (see also: git help workflows)',\n",
       " '   fetch             Download objects and refs from another repository',\n",
       " '   pull              Fetch from and integrate with another repository or a local branch',\n",
       " '   push              Update remote refs along with associated objects',\n",
       " '',\n",
       " \"'git help -a' and 'git help -g' list available subcommands and some\",\n",
       " \"concept guides. See 'git help <command>' or 'git help <concept>'\",\n",
       " 'to read about a specific subcommand or concept.',\n",
       " \"See 'git help git' for an overview of the system.\"]"
      ]
     },
     "execution_count": 2,
     "metadata": {},
     "output_type": "execute_result"
    }
   ],
   "source": [
    "\"\"\" git --help  nos muestra ayuda para  \"\"\"\n",
    "!!git --help"
   ]
  },
  {
   "cell_type": "code",
   "execution_count": 5,
   "metadata": {},
   "outputs": [
    {
     "data": {
      "text/plain": [
       "['On branch main',\n",
       " \"Your branch is up to date with 'origin/main'.\",\n",
       " '',\n",
       " 'Untracked files:',\n",
       " '  (use \"git add <file>...\" to include in what will be committed)',\n",
       " '\\t./',\n",
       " '',\n",
       " 'nothing added to commit but untracked files present (use \"git add\" to track)']"
      ]
     },
     "execution_count": 5,
     "metadata": {},
     "output_type": "execute_result"
    }
   ],
   "source": [
    "\"\""
   ]
  },
  {
   "cell_type": "code",
   "execution_count": null,
   "metadata": {},
   "outputs": [],
   "source": []
  }
 ],
 "metadata": {
  "kernelspec": {
   "display_name": "Python 3",
   "language": "python",
   "name": "python3"
  },
  "language_info": {
   "codemirror_mode": {
    "name": "ipython",
    "version": 3
   },
   "file_extension": ".py",
   "mimetype": "text/x-python",
   "name": "python",
   "nbconvert_exporter": "python",
   "pygments_lexer": "ipython3",
   "version": "3.8.5"
  }
 },
 "nbformat": 4,
 "nbformat_minor": 5
}
