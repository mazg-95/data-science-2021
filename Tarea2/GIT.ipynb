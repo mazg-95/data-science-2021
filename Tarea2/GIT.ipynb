{
 "cells": [
  {
   "cell_type": "markdown",
   "id": "hourly-republican",
   "metadata": {},
   "source": [
    "# Tarea 2\n",
    "### Por Marco Zuñiga\n",
    "\n",
    "## Fundametos de GIT\n",
    "\n",
    "    \n",
    "### Que es un VCS?\n",
    "Los sistemas de control de versiones (VCSs) nos ayudan habilitando el seguimiento del hisotrial de cambios sobre una coleccion de archivos y directorios. Es una herramienta poderosa ya que no se limita a archivos de un tipo especifico, por lo que permite introducir un control de versiones a cualquier proyecto. El control de cambios se lleva a cabo almacenando instantaneas ordenadas e incrementales junto con informacion imporante como la persona que tomo cada instantanea y un mensaje. \n",
    "\n",
    "Estas herramientas habilita a los equipos a colaborar y coordinar esfuerzos de un forma sencilla. Permitiendo a diferentes personas trabajar en diferentes archivos o incluso el mismo archivo en diferentes ramas. Es una gran ventaja poder ver instantaneas anteriores de los cambios y ver como se ha modificado el proyecto o la diferencia entre instantaneas.\n",
    "\n",
    "### GIT\n",
    "Fue creado por Linus Torvalds, en su busqueda por un sistema de control de versiones que fuera eficiente, confiable, enfatizando que fuera distribuido y open source para el proyecto de Linux Kernel. Por estas razones y ante la falta de opciones, Linus Torvalds decidio implementar GIT para satisfacer las necesidades para el proyecto. Ya que en ese momento utilizaban BitKeeper, otra herramienta para el control de codigo fuente que tenia algunas deficiencias (renombrado), ademas de no ser codigo libre. \\[[1]\\]\n",
    "\n",
    "Desde entonces GIT ha ganado popularidad siendo al dia de hoy practicamente el standard para VCSs de la industria. El exito en la gran adopcion de GIT es la facilidad y confiabilidad para trabajar copias locales que permiten a un equipo trabajar colaborativamente en sus propio repositorios, sin preocupaciones por permisos de escritura en el repositorio. \n",
    "\n",
    "\n",
    "[1]:https://www.linuxfoundation.org/blog/10-years-of-git-an-interview-with-git-creator-linus-torvalds/\n",
    "\n",
    "#### Como funciona GIT?\n"
   ]
  },
  {
   "cell_type": "code",
   "execution_count": 2,
   "id": "perfect-accused",
   "metadata": {},
   "outputs": [
    {
     "data": {
      "text/plain": [
       "['usage: git [--version] [--help] [-C <path>] [-c <name>=<value>]',\n",
       " '           [--exec-path[=<path>]] [--html-path] [--man-path] [--info-path]',\n",
       " '           [-p | --paginate | -P | --no-pager] [--no-replace-objects] [--bare]',\n",
       " '           [--git-dir=<path>] [--work-tree=<path>] [--namespace=<name>]',\n",
       " '           <command> [<args>]',\n",
       " '',\n",
       " 'These are common Git commands used in various situations:',\n",
       " '',\n",
       " 'start a working area (see also: git help tutorial)',\n",
       " '   clone             Clone a repository into a new directory',\n",
       " '   init              Create an empty Git repository or reinitialize an existing one',\n",
       " '',\n",
       " 'work on the current change (see also: git help everyday)',\n",
       " '   add               Add file contents to the index',\n",
       " '   mv                Move or rename a file, a directory, or a symlink',\n",
       " '   restore           Restore working tree files',\n",
       " '   rm                Remove files from the working tree and from the index',\n",
       " '   sparse-checkout   Initialize and modify the sparse-checkout',\n",
       " '',\n",
       " 'examine the history and state (see also: git help revisions)',\n",
       " '   bisect            Use binary search to find the commit that introduced a bug',\n",
       " '   diff              Show changes between commits, commit and working tree, etc',\n",
       " '   grep              Print lines matching a pattern',\n",
       " '   log               Show commit logs',\n",
       " '   show              Show various types of objects',\n",
       " '   status            Show the working tree status',\n",
       " '',\n",
       " 'grow, mark and tweak your common history',\n",
       " '   branch            List, create, or delete branches',\n",
       " '   commit            Record changes to the repository',\n",
       " '   merge             Join two or more development histories together',\n",
       " '   rebase            Reapply commits on top of another base tip',\n",
       " '   reset             Reset current HEAD to the specified state',\n",
       " '   switch            Switch branches',\n",
       " '   tag               Create, list, delete or verify a tag object signed with GPG',\n",
       " '',\n",
       " 'collaborate (see also: git help workflows)',\n",
       " '   fetch             Download objects and refs from another repository',\n",
       " '   pull              Fetch from and integrate with another repository or a local branch',\n",
       " '   push              Update remote refs along with associated objects',\n",
       " '',\n",
       " \"'git help -a' and 'git help -g' list available subcommands and some\",\n",
       " \"concept guides. See 'git help <command>' or 'git help <concept>'\",\n",
       " 'to read about a specific subcommand or concept.',\n",
       " \"See 'git help git' for an overview of the system.\"]"
      ]
     },
     "execution_count": 2,
     "metadata": {},
     "output_type": "execute_result"
    }
   ],
   "source": [
    "%sx git status\n",
    "!!git --help\n"
   ]
  },
  {
   "cell_type": "code",
   "execution_count": 3,
   "id": "young-drain",
   "metadata": {},
   "outputs": [
    {
     "data": {
      "text/plain": [
       "[]"
      ]
     },
     "execution_count": 3,
     "metadata": {},
     "output_type": "execute_result"
    }
   ],
   "source": [
    "%sx git help workflows"
   ]
  },
  {
   "cell_type": "code",
   "execution_count": 5,
   "id": "mental-choir",
   "metadata": {},
   "outputs": [
    {
     "data": {
      "text/plain": [
       "['On branch main',\n",
       " \"Your branch is up to date with 'origin/main'.\",\n",
       " '',\n",
       " 'Untracked files:',\n",
       " '  (use \"git add <file>...\" to include in what will be committed)',\n",
       " '\\t./',\n",
       " '',\n",
       " 'nothing added to commit but untracked files present (use \"git add\" to track)']"
      ]
     },
     "execution_count": 5,
     "metadata": {},
     "output_type": "execute_result"
    }
   ],
   "source": [
    "!!git status"
   ]
  },
  {
   "cell_type": "code",
   "execution_count": null,
   "id": "owned-pizza",
   "metadata": {},
   "outputs": [],
   "source": []
  }
 ],
 "metadata": {
  "kernelspec": {
   "display_name": "Python 3",
   "language": "python",
   "name": "python3"
  },
  "language_info": {
   "codemirror_mode": {
    "name": "ipython",
    "version": 3
   },
   "file_extension": ".py",
   "mimetype": "text/x-python",
   "name": "python",
   "nbconvert_exporter": "python",
   "pygments_lexer": "ipython3",
   "version": "3.8.5"
  }
 },
 "nbformat": 4,
 "nbformat_minor": 5
}
