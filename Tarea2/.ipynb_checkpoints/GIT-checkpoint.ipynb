{
 "cells": [
  {
   "cell_type": "markdown",
   "id": "entire-setting",
   "metadata": {},
   "source": [
    "# Tarea 2\n",
    "### by Marco Zuñiga\n",
    "\n",
    "## Git Fundamentals\n",
    "    Fue creado por Linus Torvalds, en su busqueda por un sistema de control de versiones que fuera eficiente, confiable, distribuido, pero sobre todo open source, para el proyecto de Linux Kernel. Por estas razones que Linus Torvalds decidio implementar GIT para satisfacer las necesidades para el proyecto. Ya que en ese momento utilizaban BitKeeper, otra herramienta para el control de codigo fuente.  \n",
    "    https://www.linuxfoundation.org/blog/10-years-of-git-an-interview-with-git-creator-linus-torvalds/\n",
    "    \n",
    "### Que es un VCS?\n",
    "    Los sistemas de control de versiones (VCSs) nos ayudan habilitando el seguimiento del hisotrial de cambios sobre una coleccion de archivos y directorios. Es una herramienta poderosa ya que no se limita a archivos de un tipo especifico. \n",
    "\n",
    "### GIT\n",
    "\n",
    "#### Como funciona GIT?"
   ]
  },
  {
   "cell_type": "code",
   "execution_count": 10,
   "id": "increasing-buddy",
   "metadata": {},
   "outputs": [
    {
     "data": {
      "text/plain": [
       "['On branch main',\n",
       " \"Your branch is up to date with 'origin/main'.\",\n",
       " '',\n",
       " 'Untracked files:',\n",
       " '  (use \"git add <file>...\" to include in what will be committed)',\n",
       " '\\t./',\n",
       " '',\n",
       " 'nothing added to commit but untracked files present (use \"git add\" to track)']"
      ]
     },
     "execution_count": 10,
     "metadata": {},
     "output_type": "execute_result"
    }
   ],
   "source": [
    "%sx git status"
   ]
  },
  {
   "cell_type": "code",
   "execution_count": 12,
   "id": "comparable-mistake",
   "metadata": {},
   "outputs": [
    {
     "data": {
      "text/plain": [
       "[\"'?' is not recognized as an internal or external command,\",\n",
       " 'operable program or batch file.']"
      ]
     },
     "execution_count": 12,
     "metadata": {},
     "output_type": "execute_result"
    }
   ],
   "source": [
    "%sx "
   ]
  },
  {
   "cell_type": "code",
   "execution_count": null,
   "id": "exposed-passage",
   "metadata": {},
   "outputs": [],
   "source": []
  }
 ],
 "metadata": {
  "kernelspec": {
   "display_name": "Python 3",
   "language": "python",
   "name": "python3"
  },
  "language_info": {
   "codemirror_mode": {
    "name": "ipython",
    "version": 3
   },
   "file_extension": ".py",
   "mimetype": "text/x-python",
   "name": "python",
   "nbconvert_exporter": "python",
   "pygments_lexer": "ipython3",
   "version": "3.8.5"
  }
 },
 "nbformat": 4,
 "nbformat_minor": 5
}
