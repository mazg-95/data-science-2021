{
 "cells": [
  {
   "cell_type": "code",
   "execution_count": 3,
   "id": "seasonal-sheet",
   "metadata": {},
   "outputs": [],
   "source": [
    "import numpy as np"
   ]
  },
  {
   "cell_type": "markdown",
   "id": "primary-genius",
   "metadata": {},
   "source": [
    "\n",
    "**Ejercicio**: Investigar y ejemplificar diferencias entre np.array y np.matrix"
   ]
  },
  {
   "cell_type": "markdown",
   "id": "expressed-oliver",
   "metadata": {},
   "source": [
    "La principal diferencia es que np.array es un metodo que devuelve una instancia de la clase ndarray. Esta clase ndarray puede ser de 1D, 2D, 3D, etc. \n",
    "np.matrix es el metodo constructor de la clase matrix, este devuelve una instancia de esa clase. \n",
    "\n",
    "Como se indico anteriorment, uno es constructor de una clase matrix que es indicada solamente para manejar arreglos de dos dimensiones y sus operaciones (multiplicacion de matrices y exponenciacion de matrices). Ademas la clase matrix tiene otras propiedades como la transpuesta de la matrix `T`, la inversa de la matriz `I` y la matriz conjugada `H`. Pero tambien puede obtenerse la representacion de la matriz en un objeto ndarray por medio de la propiedad `A`. Esto hace la clase matrix un caso especifico de arreglos de dos dimensiones y a los ndarrays que devuelve el metodo np.array una generalizacion de arreglos en diferentes dimensiones. \n",
    "\n",
    "Ahora numpy recomienda ya no usar la clase matrix en desarrollos[1], debido a que esta puede ser removida en un futuro. Se recomienda el uso de la clase ndarray,\n",
    "y que estos se contruyan usando los metodos `array`, `zeros`, o `empty`.[2]\n",
    "\n",
    "\n",
    "\n",
    "[2]: https://numpy.org/doc/stable/reference/generated/numpy.ndarray.html\n",
    "[1]: https://numpy.org/doc/stable/reference/generated/numpy.matrix.html\n",
    "\n"
   ]
  },
  {
   "cell_type": "code",
   "execution_count": 4,
   "id": "accomplished-weather",
   "metadata": {},
   "outputs": [
    {
     "data": {
      "text/plain": [
       "array([1, 2, 3])"
      ]
     },
     "execution_count": 4,
     "metadata": {},
     "output_type": "execute_result"
    }
   ],
   "source": [
    "# ndarray 1D\n",
    "np.array([1,2,3])"
   ]
  },
  {
   "cell_type": "code",
   "execution_count": 8,
   "id": "transsexual-confidentiality",
   "metadata": {},
   "outputs": [
    {
     "name": "stdout",
     "output_type": "stream",
     "text": [
      "<class 'numpy.ndarray'>\n"
     ]
    },
    {
     "data": {
      "text/plain": [
       "array([[1, 2],\n",
       "       [3, 4]])"
      ]
     },
     "execution_count": 8,
     "metadata": {},
     "output_type": "execute_result"
    }
   ],
   "source": [
    "# ndarray 2d\n",
    "t = np.array([[1, 2], [3, 4]])\n",
    "\n",
    "print(type(t))\n",
    "t"
   ]
  },
  {
   "cell_type": "code",
   "execution_count": 9,
   "id": "veterinary-worthy",
   "metadata": {},
   "outputs": [
    {
     "name": "stdout",
     "output_type": "stream",
     "text": [
      "<class 'numpy.matrix'>\n"
     ]
    },
    {
     "data": {
      "text/plain": [
       "matrix([[1, 2],\n",
       "        [3, 4]])"
      ]
     },
     "execution_count": 9,
     "metadata": {},
     "output_type": "execute_result"
    }
   ],
   "source": [
    "m = np.matrix([[1, 2], [3, 4]])\n",
    "print(type(m))\n",
    "m"
   ]
  },
  {
   "cell_type": "code",
   "execution_count": 14,
   "id": "trying-australia",
   "metadata": {},
   "outputs": [
    {
     "data": {
      "text/plain": [
       "array([[1, 2],\n",
       "       [3, 4]])"
      ]
     },
     "execution_count": 14,
     "metadata": {},
     "output_type": "execute_result"
    }
   ],
   "source": [
    "# np.array puede generar un array de 2D a partir de una subclase matrix\n",
    "np.array(m)\n"
   ]
  },
  {
   "cell_type": "code",
   "execution_count": 21,
   "id": "equal-experiment",
   "metadata": {},
   "outputs": [],
   "source": [
    "# np.matrix tiene un parametro `copy` que tiene un valor por defecto True\n",
    "# Que indica que si el parametro data (del cual se construira la matriz) es ya un ndarray deberia de copiarse o construirse una vista de este objeto.\n",
    "\n",
    "t2 = np.matrix(t, copy=False)\n",
    "t3 = np.matrix(t)"
   ]
  },
  {
   "cell_type": "code",
   "execution_count": 22,
   "id": "broad-scroll",
   "metadata": {},
   "outputs": [
    {
     "data": {
      "text/plain": [
       "matrix([[ 7, 10],\n",
       "        [15, 22]])"
      ]
     },
     "execution_count": 22,
     "metadata": {},
     "output_type": "execute_result"
    }
   ],
   "source": [
    "t2 * t3 # El operador `*` entre dos matrices representa la multiplicacion de matrices"
   ]
  },
  {
   "cell_type": "code",
   "execution_count": 25,
   "id": "paperback-wisdom",
   "metadata": {},
   "outputs": [
    {
     "data": {
      "text/plain": [
       "array([[ 1,  4],\n",
       "       [ 9, 16]])"
      ]
     },
     "execution_count": 25,
     "metadata": {},
     "output_type": "execute_result"
    }
   ],
   "source": [
    "t * t # El operador `*` entre ndarrays representa el producto hadamard"
   ]
  },
  {
   "cell_type": "code",
   "execution_count": 27,
   "id": "electric-corrections",
   "metadata": {},
   "outputs": [
    {
     "data": {
      "text/plain": [
       "matrix([[ 7, 10],\n",
       "        [15, 22]])"
      ]
     },
     "execution_count": 27,
     "metadata": {},
     "output_type": "execute_result"
    }
   ],
   "source": [
    "t2 ** 2 # El operador `**` representa la operacion de exponeciacion de matrices. m ** 2  es equivalente a m * m"
   ]
  },
  {
   "cell_type": "code",
   "execution_count": 26,
   "id": "honey-hotel",
   "metadata": {},
   "outputs": [
    {
     "data": {
      "text/plain": [
       "array([[ 1,  4],\n",
       "       [ 9, 16]], dtype=int32)"
      ]
     },
     "execution_count": 26,
     "metadata": {},
     "output_type": "execute_result"
    }
   ],
   "source": [
    "t ** 2 # El operador `**` sobre un ndarray representa la operacion de exponenciacion elemeto por elemento. "
   ]
  },
  {
   "cell_type": "markdown",
   "id": "vulnerable-insert",
   "metadata": {},
   "source": [
    "**Ejercicio Bellman** "
   ]
  },
  {
   "cell_type": "code",
   "execution_count": 30,
   "id": "decimal-wealth",
   "metadata": {},
   "outputs": [
    {
     "data": {
      "text/plain": [
       "array([10.,  2.,  5.])"
      ]
     },
     "execution_count": 30,
     "metadata": {},
     "output_type": "execute_result"
    }
   ],
   "source": [
    "V = np.array([0,0,0]) # valor inicial de V(s)\n",
    "R = np.array([10,2,5]) # vector de recompensas\n",
    "P = np.array([[0.5,0.25,0.25],\n",
    "              [0.2,0.40,0.40],\n",
    "              [0.80,0.10,0.10]])  # matriz de transición\n",
    "gamma = 0.99\n",
    "\n",
    "\n",
    "R + (gamma * np.matmul(P, V))"
   ]
  },
  {
   "cell_type": "markdown",
   "id": "naval-jackson",
   "metadata": {},
   "source": [
    "**Ejercicio aplicado en DS**\n",
    "Se tiene una red neuronal sencilla(y simplificada) como la de la siguiente imagen:\n",
    "<img src=\"https://www.oreilly.com/library/view/practical-convolutional-neural/9781788392303/assets/246151fb-7893-448d-b9bb-7a87b387a24b.png\">\n",
    "\n",
    "Donde:\n",
    "* INPUT LAYER: un vector X de tamaño = 2 que representa los datos de entrada\n",
    "* HIDDEN_LAYER :capa oculta con 2 neuronas definidas por los vectores:\n",
    "    * HL1 = [0.25,0.37]\n",
    "    * HL2 = [-8,14]\n",
    "* OUTPUT_LAYER = capa de salida definida por el vector [4,9]\n",
    "\n",
    "Crear una funcion neural_network(X) para calcular:\n",
    "* Calcule la salida de cada neurona en la capa intermedia aplicada a la capa de entrada.\n",
    "* Use el resultado del paso anterior como entrada para la neurona en la capa de salida\n",
    "\n",
    "Utilizando multiplicación de matrices se debe calcular para cada fila de la matriz de entrada X el valor de las neuronas de la capa intermedia, esto producirá una nueva matriz con el mismo número de filas que X y 2 columnas(1 para cada neurona) , a  los valores de esta matriz se les debe aplicar la función \"sigmoid\"(descrita a continuación) para limitarlos al intervalo de 0 a 1, esto produce una matriz del mismo tamaño pero con valores entre 0 a 1, esta matriz se multiplica matricialmente por la matriz que representa los pesos de la capa de salida  y este proceso produce un nuevo tensor al cual se debe aplicar nuevamente la función sigmoid. El resultado debe ser un tensor con el mismo número de filas que la matriz X y una sola columna(una predicción para cada fila de X.\n",
    "\n",
    "<img src=\"https://cdn-images-1.medium.com/max/1600/1*Xu7B5y9gp0iL5ooBj7LtWw.png\">"
   ]
  },
  {
   "cell_type": "code",
   "execution_count": 31,
   "id": "little-reception",
   "metadata": {},
   "outputs": [],
   "source": [
    "def sigmoid(x): #convertir los valores de x al rango de 0 a 1\n",
    "    return 1/(1+np.exp(-x))"
   ]
  },
  {
   "cell_type": "code",
   "execution_count": 35,
   "id": "outdoor-quantity",
   "metadata": {},
   "outputs": [
    {
     "data": {
      "text/plain": [
       "array([[0.99999064]])"
      ]
     },
     "execution_count": 35,
     "metadata": {},
     "output_type": "execute_result"
    }
   ],
   "source": [
    "X =  np.array([[1, 1]])\n",
    "\n",
    "def neural_network(X):\n",
    "    H1_W = np.array([[0.25,-8],\n",
    "                 [0.37,14]])\n",
    "    OL_W = np.array([[4],[9]])\n",
    "    H1 = np.matmul(X,H1_W)\n",
    "    H1 = sigmoid(H1)  # funcion de activacion: convertir a valores en el intervalo de 0 a 1\n",
    "    OL = np.matmul(H1,OL_W)\n",
    "    OL = sigmoid(OL)  # funcion de activacion: convertir a valores en el intervalo de 0 a 1\n",
    "    return OL\n",
    "\n",
    "neural_network(X)"
   ]
  },
  {
   "cell_type": "markdown",
   "id": "vocational-guard",
   "metadata": {},
   "source": [
    "### Ejercicio \n",
    "\n",
    "Implementar en una funcion neural_network(X) la red neuronal definida por la siguiente arquitectura:\n",
    "\n",
    "<img src=\"http://i.imgur.com/UNlffE1.png\">\n",
    "\n",
    "Podemos validar si fue correctamente implementada si usamos como entrada el vector x=[1,1] . Debemos obtener el resultado mostrado en la imagen.\n",
    "\n",
    "Una vez tenemos la implementacion correcta, cambiar la funcion de activacion de la capa de salida por la funcion de activacion ReLu(https://en.wikipedia.org/wiki/Rectifier_(neural_networks)):\n",
    "\n",
    "<img src=\"https://cdn-images-1.medium.com/max/1600/1*DfMRHwxY1gyyDmrIAd-gjQ.png\">\n",
    "\n",
    "Luego evaluar la red neuronal sobre la matriz de datos X(de manera vectorizada):"
   ]
  },
  {
   "cell_type": "code",
   "execution_count": 67,
   "id": "defined-identifier",
   "metadata": {},
   "outputs": [
    {
     "name": "stdout",
     "output_type": "stream",
     "text": [
      "(1, 2) (2, 3) (3, 1)\n",
      "Capa intermedia [[0.69508477 0.77029895 0.67612055]]\n"
     ]
    },
    {
     "data": {
      "text/plain": [
       "array([[0.81275154]])"
      ]
     },
     "execution_count": 67,
     "metadata": {},
     "output_type": "execute_result"
    }
   ],
   "source": [
    "X = np.array([[1,1]])\n",
    "\n",
    "def neural_network2(X):\n",
    "    HL = np.array([[0.712, 0.355, 0.268], \n",
    "                   [0.112, 0.855, 0.468]])\n",
    "    OL = np.array([[0.116], [0.329], [0.708]])\n",
    "    print(X.shape, HL.shape, OL.shape)\n",
    "    OUT = np.matmul(X, HL)\n",
    "    OUT = sigmoid(OUT)  # funcion de activacion: convertir a valores en el intervalo de 0 a 1\n",
    "    print(f'Capa intermedia {OUT}')\n",
    "    return np.matmul(OUT, OL)\n",
    "\n",
    "neural_network2(X)"
   ]
  }
 ],
 "metadata": {
  "kernelspec": {
   "display_name": "Python 3",
   "language": "python",
   "name": "python3"
  },
  "language_info": {
   "codemirror_mode": {
    "name": "ipython",
    "version": 3
   },
   "file_extension": ".py",
   "mimetype": "text/x-python",
   "name": "python",
   "nbconvert_exporter": "python",
   "pygments_lexer": "ipython3",
   "version": "3.8.5"
  }
 },
 "nbformat": 4,
 "nbformat_minor": 5
}
