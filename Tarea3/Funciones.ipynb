{
 "cells": [
  {
   "cell_type": "markdown",
   "metadata": {},
   "source": [
    "# Funciones en Python\n",
    "### Por Marco Zuñiga\n",
    "En palabras de programador, una función es una forma de organizar bloques de código o tareas, que pueden devolver un resultado luego de ejecutar una serie de pasos. Se les asigna un nombre a esos bloques códigos con lo cual se podrá invocar una vez han sido definidos dentro del programa que se está ejecutando. En matemáticas, el concepto función se refiere a un mapeo o relación que existe entre las entradas (*dominio*) y el conjunto de salidas (*codominio*).  Eso quiere decir que la salida depende directamente de los valores de entrada. Entre las dos definiciones, la que usamos día con día en el desarrollo de programas abarca muchas más aplicaciones y la hace una parte critica para la entrega de soluciones de software.  Python y otros lenguajes modernos de programación soportan el uso de funciones, tanto las que trae el framework (*built-in*) como las que nos ayudaran más adelante a plasmar nuestras soluciones en un lenguaje de programación (*user defined functions*).  \n",
    "\n",
    "En los lenguajes de programación como Python podemos ver las funciones como cajas negras. Solo necesitamos saber el nombre de la función que queremos invocar, sus entradas (*argumentos*) y el tipo de valor de retorno.  Esto se le considera la firma o interfaz de la función. En Python usamos la palabra clave `def` para indicar al interprete que estamos a punto de definir una función.\n"
   ]
  },
  {
   "cell_type": "code",
   "execution_count": 74,
   "metadata": {},
   "outputs": [
    {
     "name": "stdout",
     "output_type": "stream",
     "text": [
      "7\n"
     ]
    }
   ],
   "source": [
    "\"\"\"\n",
    "Se utiliza la palabra clave \"def\" para indicar la definicion de una funcion\n",
    "Se le asigna un nombre a la función.\n",
    "Se coloca dentro de parentesis los parametros de la funcion.\n",
    "Se cierra la firma de la función con el simbolo \":\".\n",
    "El cuerpo de la función tiene que tener un nivel de identación mas.\n",
    "\"\"\"\n",
    "def suma(a,b):\n",
    "    return a + b\n",
    "y = suma(5, 2)\n",
    "\n",
    "print(y)\n"
   ]
  },
  {
   "cell_type": "markdown",
   "metadata": {},
   "source": [
    "Una vez se invoca a la función con los argumentos que hemos escogido para llenar los requerimientos de la interfaz, la ejecución del programa llegará a la llamada y la ejecución hará un salto al bloque de código que define la función. Se ejecutará el conjunto de pasos definidos y luego podrá retornar con o sin un valor final. Lo importante es que regresa el flujo de ejecución a la línea de donde había hecho el salto antes de ejecutar el código de la función.  No siempre sabremos donde existe el código, puede que necesitemos llamar una función *built-in* como `range` o `any`. Estas funciones predefinidas conocemos únicamente su interfaz y que están disponibles en nuestro *scope*. Al momento de ejecutar, será el interprete el encargado de encontrar en base a la interfaz de la función la definición (*bloque de código*) a ejecutar. En cualquier caso, las funciones tendrán el mismo comportamiento una vez se hayan definido o importado de otra librería. La diferencia será que cuando uno define una función, uno sabe exactamente donde está el código que se desea invocar y el comportamiento de esta."
   ]
  },
  {
   "cell_type": "code",
   "execution_count": 75,
   "metadata": {},
   "outputs": [
    {
     "name": "stdout",
     "output_type": "stream",
     "text": [
      "Hola soy una funcion predefinida\n"
     ]
    },
    {
     "data": {
      "text/plain": [
       "['zip',\n",
       " 'vars',\n",
       " 'type',\n",
       " 'tuple',\n",
       " 'super',\n",
       " 'sum',\n",
       " 'str',\n",
       " 'staticmethod',\n",
       " 'sorted']"
      ]
     },
     "execution_count": 75,
     "metadata": {},
     "output_type": "execute_result"
    }
   ],
   "source": [
    "### Funciones  built-in\n",
    "\n",
    "print(\"Hola soy una funcion predefinida\")\n",
    "\n",
    "# Algunas otras funciones predefinidas\n",
    "list(filter(lambda elem: not \"Error\" in elem, dir(__builtins__)))[-1:-10:-1]\n"
   ]
  },
  {
   "cell_type": "code",
   "execution_count": 76,
   "metadata": {},
   "outputs": [
    {
     "data": {
      "text/plain": [
       "25"
      ]
     },
     "execution_count": 76,
     "metadata": {},
     "output_type": "execute_result"
    }
   ],
   "source": [
    "#### Funciones definidas por el usuario: \n",
    "\n",
    "def pow(base, exp):\n",
    "    return base ** exp\n",
    "\n",
    "pow(5, 2)\n",
    "    "
   ]
  },
  {
   "cell_type": "markdown",
   "metadata": {},
   "source": [
    "Las funciones son de gran ayuda al momento de codificar nuestras soluciones, nos traen grandes beneficios y hacen nuestro código mas mantenible. Uno de esos es cuando tenemos un conjunto de líneas que representan una tarea que tenemos que hacer en diferentes partes de código. La solución mas sencilla seria copiar y pegar ese código en todos los lugares que lo necesitemos, pero hace nuestro código proclive a errores además de que nos agrega mucha complejidad con el paso de tiempo, cuando queramos hacer un cambio en la funcionalidad de la tarea. Entonces por mantenibilidad y reusabilidad las funciones nos facilitan aplicar el concepto de DRY (Don’t repeat yourself). Al abstraer la funcionalidad bajo una sola sección de código, cualquier cambio que queramos aplicar a la función debemos hacerlo solamente en la definición. El cambio en la funcionalidad aplicara para todas las secciones de código donde hagan referencia a la función invocándola. \n",
    "\n",
    "Ahora consideremos el caso en el que necesitamos realizar varias tareas, y no conocíamos el concepto de funciones en Python. Nuestro programa requeriría que todas las instrucciones necesarias para realizar cada tarea estuvieran agrupadas en el mismo bloque de código, ocasionando, probablemente, un gran pedazo de código poco legible. Pues aquí nuevamente loas funciones nos vuelven a tirar una balsa de ayuda, agrupando bloques de código que representan pasos mas pequeños del programa, abstraerlos definiendo funciones con nombres representativos para los bloques de código, modularizando el código como consecuencia haciéndolo más fácil de manejar y leer. \n"
   ]
  },
  {
   "attachments": {
    "17ed5ab3-f3d2-4aac-bf01-b0cdf23d602b.png": {
     "image/png": "[encoded data removed]"
    }
   },
   "cell_type": "markdown",
   "metadata": {},
   "source": [
    "### Parámetros y Argumentos en Python\n",
    "\n",
    "Las funciones pueden tener parámetros en la definición, son los nombres que se le da dentro de la firma o interfaz. Los argumentos son las entradas, los valores que nosotros asignamos a los parámetros, que se usaran para producir una salida. Desde la perspectiva de la llamada de la función nosotros invocamos la función proveyendo los valores necesarios para satisfacer la firma de la función (argumentos). Dentro de la función el código se refiere a estos argumentos, que serán enviados al momento de invocarse, por medio de los nombres de los parámetros. Es el mecanismo por defecto (y el recomendado) para pasar datos a las funciones. \n",
    "- Argumentos Posicionales: Son argumentos que se pasan en el orden en el que fueron definidos los parámetros en la definición de la función. Deben de emparejarse en orden y numero con los parámetros.  \n",
    "- Argumentos Keyword:  Python permite hacer la llamada a la función asignado valores por el nombre del parámetro. Pueden venir en un orden arbitrario, pero los argumentos de tipo keyword deben venir después de los argumentos posicionales. Sino se cumple con esta restricción el siguiente error puede presentarse: \n",
    "\n",
    "![image.png](attachment:17ed5ab3-f3d2-4aac-bf01-b0cdf23d602b.png)\n",
    "\n",
    "- Argumentos Default: Python nos permite definir valores por defecto para los parámetros de la función en la firma de la función. Si no se para un valor que se asigne al argumento, el interprete utilizara el valor por defecto. Para hacer se utiliza el operador de asignación `=` a la par del nombre del parámetro y se asigna el valor que se desea usar por defecto.  Estos valores son **definidos una sola vez**, por ello hay que tener cuidado al momento utilizar valores de tipo mutable como default (ej. Listas)\n",
    "- Numero Variable de Argumentos: Python también nos permite la flexibilidad de que si no conocemos el numero de valores que recibirá una función, colocando un parámetro que recibirá un numero arbitrario de valores. Esto se define en la función con el símbolo asterisco `*` y el nombre del parámetro. \n",
    "Los 4 tipos de argumentos pueden ser utilizados en una llamada de una función. \n"
   ]
  },
  {
   "cell_type": "code",
   "execution_count": 77,
   "metadata": {},
   "outputs": [
    {
     "name": "stdout",
     "output_type": "stream",
     "text": [
      "Se asigna segun el orden\n",
      "Pueden venir en orden arbitrario\n",
      "['a', 'd']\n",
      "['b', 'c', 'd']\n",
      "--------------------------------------------------\n",
      "1\n",
      "2\n",
      "3\n",
      "--------------------------------------------------\n",
      "bar:1\n",
      "baz:2\n",
      "--------------------------------------------------\n",
      "a = 1\n",
      "b = 2\n",
      "args = ('foo', 'bar', 'baz', 'qux')\n",
      "kwargs = {'x': 100, 'y': 200, 'z': 300}\n"
     ]
    }
   ],
   "source": [
    "def concatenacion(a,b):\n",
    "    return a + b\n",
    "\n",
    "## Argumentos posicionales\n",
    "print(concatenacion(\"Se asigna\", \" segun el orden\"))\n",
    "\n",
    "## Argumentso keyword\n",
    "print(concatenacion(b=\" arbitrario\", a=\"Pueden venir en orden\"))\n",
    "\n",
    "## Argumentos default\n",
    "\n",
    "def listar(vals=None):\n",
    "    if not vals:\n",
    "        vals = ['a']\n",
    "    vals.append('d')\n",
    "    return vals\n",
    "    \n",
    "print(listar())\n",
    "print(listar(['b','c']))\n",
    "\n",
    "## Argumentos variables\n",
    "\n",
    "def listar_multiple(*vals):\n",
    "    for v in vals:\n",
    "        print(v)\n",
    "\n",
    "print(\"-\" * 50)\n",
    "listar_multiple(1, 2, 3)\n",
    "\n",
    "def listar_multiple_keyword(**kwargs):\n",
    "    for n, v in kwargs.items():\n",
    "        print(F\"{n}:{v}\")\n",
    "\n",
    "print(\"-\" * 50)\n",
    "listar_multiple_keyword(bar=1, baz=2)\n",
    "\n",
    "## Todo los tipos de argumentos juntos: \n",
    "def f(a, b, *args, **kwargs):\n",
    "    print(F'a = {a}')\n",
    "    print(F'b = {b}')\n",
    "    print(F'args = {args}')\n",
    "    print(F'kwargs = {kwargs}')\n",
    "\n",
    "print(\"-\" * 50)\n",
    "f(1, 2, 'foo', 'bar', 'baz', 'qux', x=100, y=200, z=300)"
   ]
  },
  {
   "cell_type": "markdown",
   "metadata": {},
   "source": [
    "### Valor de Retorno de una función\n",
    "\n",
    "En Python las funciones pueden devolver valores o no devolver nada. Para devolver el control de flujo de ejecución a la función invocadora, existe una palabra clave llamada `return`. Esta instrucción sirve dos propósitos: permite terminar y devolver el control de ejecución y además sirve de mecanismo para devolver datos a la función invocadora. La instrucción puede aparecer en cualquier parte del bloque que define la función, pero hay que tener en cuenta que, al ejecutar esta instrucción, no se ejecutara ningún otro paso siguiente dentro de la función. La instrucción `return` no es obligatoria, o sea puede aparecer 0, 1 o más veces en el cuerpo de la función. En caso de que no exista en el cuerpo de la función, esta retornara None y el control de flujo una vez haya concluido de ejecutar el bloque de código de la función. \n",
    "Python permite devolver data a través de la instrucción return si esta es seguida por una expresión. La expresión se evaluará y producirá el valor de retorno que se devolverá a la función invocadora. Una función puede retornar cualquier tipo de objeto, incluso otra función ya que en Python todo es un objeto. Por la misma razón, Python también puede devolver múltiples valores o expresiones juntos con la instrucción return. Al evaluarse la instrucción return y las expresiones, estas resultan empacándose en una tupla (un tipo de objeto en Python). Estas tuplas pueden desempacarse en la función invocadora, asignándolas a diferentes variables. Esta ultima funcionalidad de retornar varios valores de una función hacen a Python más flexible y lo diferencia de varios lenguajes de programación. Según la documentación oficial, lo que hace una tupla son realmente las comas que separan los valores que conforman la tupla. Pero los paréntesis son requeridos en caso de que se quiera crear una tupla vacía o para evitar confusiones. [1]\n",
    "\n",
    "\n",
    "[1]: https://docs.python.org/3/library/stdtypes.html#tuple\n",
    "\n"
   ]
  },
  {
   "cell_type": "code",
   "execution_count": 78,
   "metadata": {},
   "outputs": [
    {
     "name": "stdout",
     "output_type": "stream",
     "text": [
      "(20,)\n",
      "(True, True, False)\n"
     ]
    }
   ],
   "source": [
    "### Ejemplo retorno de multiples valores\n",
    "\n",
    "def retorno_tupla_singleton():\n",
    "    return 20,\n",
    "\n",
    "print(retorno_tupla_singleton())\n",
    "\n",
    "def retorno_tupla_multiples():\n",
    "    return True, True, False\n",
    "\n",
    "print(retorno_tupla_multiples())"
   ]
  },
  {
   "cell_type": "markdown",
   "metadata": {},
   "source": [
    "### Funciones de primera clase\n",
    "En Python todo es un objeto, incluso las funciones. Las funciones son un tipo de objeto function. Al ser objetos también pueden asignarse a una variable y almacenar una referencia al objeto en estructuras de datos. Si se quisiera, se puede enviar como argumento a una función o que una función tengo como valor de retorno otra función, a esto se le llama funciones de primera clase. Esto nos habilita poder pasar no solo valores sino comportamientos plasmados en las funciones. Gracias a esto podemos aplicar transformaciones a las funciones y dejar un funcionamiento generalizado que permite reutilizar funciones por medio de la composición de funciones. La composición de funciones nos permite generar distintas funcionalidades reutilizando pequeños bloques de código. Esta es una característica bastante poderosa de Python, ya que junto con otros conceptos como el *currying y funciones puras* permiten implementar programas bajo el paradigma de programación funcional. [2]\n",
    "\n",
    "[2]: https://dbader.org/blog/python-first-class-functions#:~:text=Everything%20in%20Python%20is%20an,(first%2Dclass%20functions.)\n"
   ]
  },
  {
   "cell_type": "code",
   "execution_count": 79,
   "metadata": {},
   "outputs": [
    {
     "data": {
      "text/plain": [
       "[2, 4, 6]"
      ]
     },
     "execution_count": 79,
     "metadata": {},
     "output_type": "execute_result"
    }
   ],
   "source": [
    "type(suma)\n",
    "\n",
    "vals = [1,2,3]\n",
    "\n",
    "### Funcion que aplicara una funcion de orden superior. Ejemplo map, map es una funciona que aplica una\n",
    "### funcion sobre cada elemento de un iterable. \n",
    "def mult2(e):\n",
    "    return e * 2\n",
    "\n",
    "list(map(mult2, vals))\n",
    "    "
   ]
  },
  {
   "cell_type": "markdown",
   "metadata": {},
   "source": [
    "### Funciones anónimas o lambdas\n",
    "Las funciones anónimas son otra herramienta que tenemos disponible en Python, son funciones que no necesitan estar relacionas a un identificador como las funciones previamente mencionadas, por ello se refieren a que son anónimas. A diferencia de las user defined functions, no se utiliza la palabra clave `def`, sino se utiliza la palabra clave lambda. Y normalmente se utilizan cuando necesitamos pasar encapsulado una funcionalidad para un marco de tiempo en especifico y probablemente no se volverá a utilizar. Entonces en esos escenarios creamos funciones anónimas en tiempo de ejecución y muchas veces la pasamos como argumento a otra función de orden superior. Ejemplo cuando utilizamos las funciones filter, map o reduce. Esto nos ayuda a componer y modelar distintos comportamientos, al ser funciones generalizadas que aceptan otras funciones bajo una interfaz. \n"
   ]
  },
  {
   "cell_type": "code",
   "execution_count": 80,
   "metadata": {},
   "outputs": [
    {
     "data": {
      "text/plain": [
       "['o', 'e', 'a', 'a', 'e', 'a', 'e', 'a', 'a', 'e', 'e']"
      ]
     },
     "execution_count": 80,
     "metadata": {},
     "output_type": "execute_result"
    }
   ],
   "source": [
    "val = \"Esto es una cadena de caracteres\"\n",
    "\n",
    "list(filter(lambda e: e in ['a', 'e', 'i', 'o', 'i'], val))"
   ]
  },
  {
   "cell_type": "markdown",
   "metadata": {},
   "source": [
    "### Bibliografía\n",
    "- https://docs.python.org/3/reference/executionmodel.html\n",
    "- https://towardsdatascience.com/functions-explained-f6970a9ca3f8\n",
    "- https://realpython.com/defining-your-own-python-function/\n",
    "- https://docs.python.org/3/library/stdtypes.html#tuple\n",
    "- https://dbader.org/blog/python-first-class-functions#:~:text=Everything%20in%20Python%20is%20an,(first%2Dclass%20functions.)\n"
   ]
  },
  {
   "cell_type": "code",
   "execution_count": null,
   "metadata": {},
   "outputs": [],
   "source": []
  }
 ],
 "metadata": {
  "kernelspec": {
   "display_name": "Python 3",
   "language": "python",
   "name": "python3"
  },
  "language_info": {
   "codemirror_mode": {
    "name": "ipython",
    "version": 3
   },
   "file_extension": ".py",
   "mimetype": "text/x-python",
   "name": "python",
   "nbconvert_exporter": "python",
   "pygments_lexer": "ipython3",
   "version": "3.8.5"
  }
 },
 "nbformat": 4,
 "nbformat_minor": 4
}
