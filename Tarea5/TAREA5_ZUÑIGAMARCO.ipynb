{
  "nbformat": 4,
  "nbformat_minor": 0,
  "metadata": {
    "colab": {
      "name": "TAREA5-ZUÑIGAMARCO.ipynb",
      "provenance": [],
      "collapsed_sections": [
        "RdpBYHliaxte",
        "TVcTQSn8axts",
        "7NGf_2y5axtu"
      ]
    },
    "kernelspec": {
      "name": "python3",
      "display_name": "Python 3"
    }
  },
  "cells": [
    {
      "cell_type": "code",
      "metadata": {
        "id": "GB8nGF8uv4XS"
      },
      "source": [
        "import numpy as np\r\n",
        "import matplotlib.pyplot as plt"
      ],
      "execution_count": 2,
      "outputs": []
    },
    {
      "cell_type": "markdown",
      "metadata": {
        "id": "kV1C2Ei-wU0e"
      },
      "source": [
        "**ejercicio** : en data science y programación científica es común necesitar vectores con valores dentro de cierto intervalo, pero con sub-intervalos internos con diference espaciamiento ,por ejemplo:\r\n",
        "\r\n",
        "[0.  , 0.1 , 0.2 , 0.3 , 0.4 , 0.5 , 0.51, 0.52, 0.53, 0.54, 0.55,\r\n",
        "       0.56, 0.57, 0.58, 0.59, 0.6 , 0.7 , 0.8 , 0.9 , 1.  ]\r\n",
        "       \r\n",
        "El primer sub-intervalo incrementa de 0.1 en 0.1 , el segundo de 0.01 en 0.01 , y el tercero de 0.1 en 0.1 nuevamente.\r\n",
        "\r\n",
        "Usando unicamente NumPy crea un vector de este tipo con el nombre xs .\r\n",
        "\r\n",
        "**nota**: no es permitido usar ciclos, debe realizarse con operaciones \"vectorizadas\" de numpy"
      ]
    },
    {
      "cell_type": "code",
      "metadata": {
        "colab": {
          "base_uri": "https://localhost:8080/"
        },
        "id": "pHjJj-8twZwR",
        "outputId": "8e54b0f0-827d-4f61-ad16-d10f878d8857"
      },
      "source": [
        "# tu codigo aqui (~ 5 lineas de codigo):\r\n",
        "?np.linspace\r\n",
        "first = np.linspace(0,0.5,6)\r\n",
        "second = np.linspace(0.51, 0.6, 9, endpoint=False)\r\n",
        "third = first[1:] + 0.5\r\n",
        "np.concatenate((first, second, third))"
      ],
      "execution_count": 3,
      "outputs": [
        {
          "output_type": "execute_result",
          "data": {
            "text/plain": [
              "array([0.  , 0.1 , 0.2 , 0.3 , 0.4 , 0.5 , 0.51, 0.52, 0.53, 0.54, 0.55,\n",
              "       0.56, 0.57, 0.58, 0.59, 0.6 , 0.7 , 0.8 , 0.9 , 1.  ])"
            ]
          },
          "metadata": {
            "tags": []
          },
          "execution_count": 3
        }
      ]
    },
    {
      "cell_type": "markdown",
      "metadata": {
        "id": "ulHsE--FxP0J"
      },
      "source": [
        "**Ejemplo aplicado a DS** :  Suavizado de curvas a través de promedios de n-puntos(medias móviles):\r\n",
        "\r\n",
        "<img src=\"https://www.luisllamas.es/wp-content/uploads/2017/03/arduino-filtro-media-movil-ventana-5.png\">\r\n",
        "\r\n",
        "En el mundo la data comunmente posee \"ruido\" por lo cual muchas veces antes de hacer análisis o modelado se necesita \"suavizar\" las curvas para reducir este ruido, una técnica muy sencilla es  el suavizado por promedio de n-puntos(también llamado media móvil), esto significa que para cada punto Xn obtenemos una versión transformada(suavizada) que consiste en promediar n puntos cercanos a el, por ejemplo para n= 3 tenemos que:\r\n",
        "\r\n",
        "$$XS_{n}  =  \\frac{X_{n-1}+X_{n}+X_{n+1}}{3}$$"
      ]
    },
    {
      "cell_type": "code",
      "metadata": {
        "colab": {
          "base_uri": "https://localhost:8080/",
          "height": 316
        },
        "id": "wuC-swL7w6Zc",
        "outputId": "23b3879d-f578-408c-bbdf-dca2916ae0f9"
      },
      "source": [
        "# las siguientes 3 lineas generan un conjunto de datos que se comportan segun una onda senoidal pero tienen\r\n",
        "# ruido por lo cual vamos a suavizar usando promedio de 3 puntos\r\n",
        "# en este ejercicio los generamos manualmente pero pensemos que son datos que pudieron ser generados con algún\r\n",
        "# instrumento como un sensor, o bien estar almacenados en una base de datos\r\n",
        "sample_points = 10000\r\n",
        "inicio_intervalo = 0\r\n",
        "ruido = 0.5*np.random.randn(sample_points) #el ruido comunmente se debe a aleatoriedad o captura no exacta de info.\r\n",
        "x = np.linspace(inicio_intervalo,5*np.pi,sample_points) \r\n",
        "y = np.sin(x) + ruido\r\n",
        "\r\n",
        "#ys es \"y suavizado\", inicialmente es una copia de y\r\n",
        "ys =  y.copy()\r\n",
        "\r\n",
        "for n in range(1,len(y)-1): #5\r\n",
        "    ys[n] = (y[n-1] + y[n] + y[n+1])/3\r\n",
        "    \r\n",
        "print(y)\r\n",
        "print(ys)\r\n",
        "\r\n",
        "plt.plot(x,y)\r\n",
        "plt.plot(x,ys)\r\n",
        "plt.xlim(inicio_intervalo,5*np.pi + 0.5)\r\n",
        "plt.show()"
      ],
      "execution_count": 4,
      "outputs": [
        {
          "output_type": "stream",
          "text": [
            "[1.11074482 0.06313891 0.61844697 ... 0.48842181 0.06095054 0.57285868]\n",
            "[ 1.11074482  0.59744357  0.47074719 ... -0.0964253   0.37407701\n",
            "  0.57285868]\n"
          ],
          "name": "stdout"
        },
        {
          "output_type": "display_data",
          "data": {
            "image/png": "[encoded data removed]",
            "text/plain": [
              "<Figure size 432x288 with 1 Axes>"
            ]
          },
          "metadata": {
            "tags": [],
            "needs_background": "light"
          }
        }
      ]
    },
    {
      "cell_type": "code",
      "metadata": {
        "colab": {
          "base_uri": "https://localhost:8080/",
          "height": 350
        },
        "id": "qJyaqSWyw80K",
        "outputId": "842a8808-895b-4e61-c2e8-f9702e5ccea6"
      },
      "source": [
        "#ys es \"y suavizado\", inicialmente es una copia de y\r\n",
        "cum_y = np.cumsum(y)\r\n",
        "ys = np.hstack((y[0], cum_y[2] / 3 , (cum_y[3:] - cum_y[:-3]) / 3, y[-1]))\r\n",
        "\r\n",
        "print(x)\r\n",
        "print(y)\r\n",
        "print(ys)\r\n",
        "\r\n",
        "plt.plot(x,y)\r\n",
        "plt.plot(x,ys)\r\n",
        "plt.xlim(inicio_intervalo,5*np.pi + 0.5)\r\n",
        "plt.show()"
      ],
      "execution_count": 5,
      "outputs": [
        {
          "output_type": "stream",
          "text": [
            "[0.00000000e+00 1.57095342e-03 3.14190684e-03 ... 1.57048214e+01\n",
            " 1.57063923e+01 1.57079633e+01]\n",
            "[1.11074482 0.06313891 0.61844697 ... 0.48842181 0.06095054 0.57285868]\n",
            "[ 1.11074482  0.59744357  0.47074719 ... -0.0964253   0.37407701\n",
            "  0.57285868]\n"
          ],
          "name": "stdout"
        },
        {
          "output_type": "display_data",
          "data": {
            "image/png": "[encoded data removed]",
            "text/plain": [
              "<Figure size 432x288 with 1 Axes>"
            ]
          },
          "metadata": {
            "tags": [],
            "needs_background": "light"
          }
        }
      ]
    },
    {
      "cell_type": "markdown",
      "metadata": {
        "id": "RdpBYHliaxte"
      },
      "source": [
        "#### Ejemplos en DS:\n",
        "\n",
        "**1)**\n",
        "En machine learning se necesita una manera de \"evaluar\" nuestros modelos ,en ML del tipo \"supervisado\" para modelos de variables discretas categóricas  usamos  para esto  la \"entropía cruzada\" que mide la diferencia  entre 2 distribuciones de probabilidad,la que nuestro modelo predice vs la real obtenida de datos **ground truth** , una entropía cruzada alta es un modelo de ML malo y una entropía cruzada de 0 es un modelo de ML perfecto.\n",
        "\n",
        "La entropía medida en bits(ojo,no cruzada, solo entropía) se define como \"el promedio de información\"(promedio ponderado) y la información se define como el negativo del logaritmo base 2 de la probabilidad . \n",
        "\n",
        "$$I(x) = -log_{2}P(x)$$\n",
        "\n",
        "**Comentario**:La entropía es una medida de \"incerteza\", si un evento puede producir muchos resultados diferentes entonces tenemos una alta incerteza del evento lo cual se traduce a entropía alta.\n",
        "\n",
        "La siguiente función calcula para cierta distribución de probabilidad dada por un vector px la información de cada elemento."
      ]
    },
    {
      "cell_type": "code",
      "metadata": {
        "id": "LVBqUS7Uaxtf",
        "colab": {
          "base_uri": "https://localhost:8080/"
        },
        "outputId": "9cc4b245-d9b9-49a1-f681-e74edc690b86"
      },
      "source": [
        "def calcular_informacion(px):\n",
        "    return np.log2(px)*-1 # teoría de la información\n",
        "\n",
        "distribucion_prob1 = [1.0]\n",
        "distribucion_prob2 = [0.5,0.5] # la entropia es maxima cuando todos tienen la misma prob\n",
        "distribucion_prob3 = [1.0,0.0]\n",
        "distribucion_prob4 = [0.9999]\n",
        "distribucion_prob5 = [0.25,0.75]\n",
        "distribucion_prob6 = [0.2]*5 # ojo estas son listas por lo tanto * la replica, no son arrays de numpy\n",
        "distribucion_prob7 = [0.4,0.2,0.1,0.1,0.2]\n",
        "\n",
        "print(calcular_informacion(distribucion_prob1))\n",
        "print(calcular_informacion(distribucion_prob2))\n",
        "print(calcular_informacion(distribucion_prob3))\n",
        "print(calcular_informacion(distribucion_prob4))\n",
        "print(calcular_informacion(distribucion_prob5))\n",
        "print(calcular_informacion(distribucion_prob6))\n",
        "print(calcular_informacion(distribucion_prob7))"
      ],
      "execution_count": 6,
      "outputs": [
        {
          "output_type": "stream",
          "text": [
            "[-0.]\n",
            "[1. 1.]\n",
            "[-0. inf]\n",
            "[0.00014428]\n",
            "[2.        0.4150375]\n",
            "[2.32192809 2.32192809 2.32192809 2.32192809 2.32192809]\n",
            "[1.32192809 2.32192809 3.32192809 3.32192809 2.32192809]\n"
          ],
          "name": "stdout"
        },
        {
          "output_type": "stream",
          "text": [
            "/usr/local/lib/python3.7/dist-packages/ipykernel_launcher.py:2: RuntimeWarning: divide by zero encountered in log2\n",
            "  \n"
          ],
          "name": "stderr"
        }
      ]
    },
    {
      "cell_type": "markdown",
      "metadata": {
        "id": "LCcPuLnzaxtg"
      },
      "source": [
        "**Ejercicio** Para calcular la información de una distribución de probabilidad necesitamos calcular el producto entre la información de cada posible x y su probabilidad , cada uno de estos elementos nos indica cuanta incerteza aporta cada x a la entropía de la distribución. Crea una función que calcule esto, debe recibir un vector representando a la dist. de probabilidad y devoler otro vector con el termino de entropía para cada x. Por ejemplo:\n",
        "\n",
        "calcular_entropia([0.25,0.75])\n",
        "\n",
        "Debe resultar en :\n",
        "\n",
        "[0.5    ,    0.31127812]\n",
        "\n",
        "**Nota**: la entropía es la suma sobre estos valores, en este caso no calculamos la entropía,unicamente los termimos de su sumatoria. La entropía es:\n",
        "\n",
        "$$S = -\\sum_i^nP(x_{i})log_{2}P(x_{i})$$"
      ]
    },
    {
      "cell_type": "code",
      "metadata": {
        "id": "CSBwGnZ-axth"
      },
      "source": [
        "# tu codigo aqui (~ 4 lineas de codigo)\n",
        "def calcular_terminos_entropia(tensor):\n",
        "  return calcular_informacion(tensor) * tensor"
      ],
      "execution_count": 7,
      "outputs": []
    },
    {
      "cell_type": "code",
      "metadata": {
        "colab": {
          "base_uri": "https://localhost:8080/"
        },
        "id": "_Dy-ZrJ8mghi",
        "outputId": "c0e3a0ed-cfd6-4121-e770-ecfce18f16e3"
      },
      "source": [
        "print(calcular_terminos_entropia(distribucion_prob1))\r\n",
        "print(calcular_terminos_entropia(distribucion_prob2))\r\n",
        "print(calcular_terminos_entropia(distribucion_prob3))\r\n",
        "print(calcular_terminos_entropia(distribucion_prob4))\r\n",
        "print(calcular_terminos_entropia(distribucion_prob5))\r\n",
        "print(calcular_terminos_entropia(distribucion_prob6))\r\n",
        "print(calcular_terminos_entropia(distribucion_prob7))"
      ],
      "execution_count": 8,
      "outputs": [
        {
          "output_type": "stream",
          "text": [
            "[-0.]\n",
            "[0.5 0.5]\n",
            "[-0. nan]\n",
            "[0.00014426]\n",
            "[0.5        0.31127812]\n",
            "[0.46438562 0.46438562 0.46438562 0.46438562 0.46438562]\n",
            "[0.52877124 0.46438562 0.33219281 0.33219281 0.46438562]\n"
          ],
          "name": "stdout"
        },
        {
          "output_type": "stream",
          "text": [
            "/usr/local/lib/python3.7/dist-packages/ipykernel_launcher.py:2: RuntimeWarning: divide by zero encountered in log2\n",
            "  \n",
            "/usr/local/lib/python3.7/dist-packages/ipykernel_launcher.py:3: RuntimeWarning: invalid value encountered in multiply\n",
            "  This is separate from the ipykernel package so we can avoid doing imports until\n"
          ],
          "name": "stderr"
        }
      ]
    },
    {
      "cell_type": "markdown",
      "metadata": {
        "id": "d2IreNMKaxth"
      },
      "source": [
        "**2)** \n",
        "\n",
        "A partir de la información en un data warehouse con un modelo de  datos el valor de clientes en el tiempo se ha determinado un modelo predictivo  no lineal que estima cuanta ganancia ha generado cierto cliente en 5 años en base a lo que ha gastado en su primer mes como cliente. \n",
        "\n",
        "El modelo tiene la forma:\n",
        "\n",
        "$$g(x) = (x^{3} + 2x^{2} + e^{0.0001x} -\\sqrt{2x})/50$$\n",
        "\n",
        "Crear una función que calcule la ganancia para valores de gasto de nuevos clientes:"
      ]
    },
    {
      "cell_type": "code",
      "metadata": {
        "id": "u4D60NkLaxti",
        "colab": {
          "base_uri": "https://localhost:8080/"
        },
        "outputId": "e91db0e9-ab8b-43a6-e76e-f7cf9e99089d"
      },
      "source": [
        "def g(x): #<- vector\n",
        "    \n",
        "    ganancia = (np.power(x,3) + 2.0*(np.power(x,2.0))+np.exp(0.0001*x) - np.sqrt(2.0*x))/50\n",
        "    \n",
        "    return ganancia # <- vector del mismo tamaño que x\n",
        "    \n",
        "gastos = np.array([100,50,25,100]) #vector\n",
        "ganancia = g(gastos)\n",
        "\n",
        "print(\"Ganancias\",ganancia)"
      ],
      "execution_count": 9,
      "outputs": [
        {
          "output_type": "stream",
          "text": [
            "Ganancias [20399.73735829  2599.82010025   337.37862871 20399.73735829]\n"
          ],
          "name": "stdout"
        }
      ]
    },
    {
      "cell_type": "markdown",
      "metadata": {
        "id": "afpF1h4Kaxti"
      },
      "source": [
        "**Ejercicio** : se ha determinado también que hay costos asociados a la comunicación y relación con los clientes(llamadas,mensajes electrónicos,etc) y que estos también tienen alta correlación con el monto que estos gastan en su primer més siguiendo el modelo:\n",
        "$$c(x) = (x^{2} + x + log (0.0001x)-\\sqrt{0.54x})/100$$\n",
        "\n",
        "Cree una función para calcular este modelo sobre valores de de gasto de nuevos clientes , y luego cree una función  **ganancia_neta(x,g,c)** donde:\n",
        "* x = vector conteniendo los valores de gasto del primer mes para nuevos clientes.\n",
        "* g = función que estima la ganancia en función de x\n",
        "* c = función que estima el costo en función de x\n",
        "\n",
        "La función realiza el calculo simple **g(x) - c(x)** , ya que es posible que los modelos cambien en el tiempo es común recibir como parámetro el modelo o modelos hijos de un modelo mas grande , en este caso eso se logra recibiendo como parámetro las funciones de ganancia y costo."
      ]
    },
    {
      "cell_type": "code",
      "metadata": {
        "id": "2ClMDGdaG7BA"
      },
      "source": [
        "def ganancia2(x):\r\n",
        "  return np.power(x,2)\r\n",
        "\r\n",
        "def costos(x):\r\n",
        "  return np.sqrt(x)"
      ],
      "execution_count": 10,
      "outputs": []
    },
    {
      "cell_type": "code",
      "metadata": {
        "colab": {
          "base_uri": "https://localhost:8080/"
        },
        "id": "ux1p0QzlGhGQ",
        "outputId": "961b23d1-4344-49e3-ddb9-5d65fc4070ef"
      },
      "source": [
        "def ganancia_neta(x,g,c):\r\n",
        "  return g(x) - c(x)\r\n",
        "\r\n",
        "ganancia_neta(gastos,ganancia2,costos)"
      ],
      "execution_count": 11,
      "outputs": [
        {
          "output_type": "execute_result",
          "data": {
            "text/plain": [
              "array([9990.        , 2492.92893219,  620.        , 9990.        ])"
            ]
          },
          "metadata": {
            "tags": []
          },
          "execution_count": 11
        }
      ]
    },
    {
      "cell_type": "code",
      "metadata": {
        "colab": {
          "base_uri": "https://localhost:8080/"
        },
        "id": "gDSGvXYvHNno",
        "outputId": "f6d94fc0-c609-49b7-8b85-df1117a2485c"
      },
      "source": [
        "gastos"
      ],
      "execution_count": 12,
      "outputs": [
        {
          "output_type": "execute_result",
          "data": {
            "text/plain": [
              "array([100,  50,  25, 100])"
            ]
          },
          "metadata": {
            "tags": []
          },
          "execution_count": 12
        }
      ]
    },
    {
      "cell_type": "markdown",
      "metadata": {
        "id": "TVcTQSn8axts"
      },
      "source": [
        "#### Aritmetica acumulativa\n",
        "\n",
        "En muchos casos es útil usar sumas o productos acumulativos , por ejemplo:\n",
        "\n",
        "**Ejemplo aplicado** En un datawarehouse se tiene un modelo \"lifetime value\" en el que se almacena de manera acumulativa cuantas ganancias se han percibido a lo largo de la vida de los usuarios, un ETL en Python debe calcularlo en función de un vector que contiene de manera ordenada en el tiempo los ingresos percibidos mensualmente para cierto usuario. Podemos usar la funcion **np.cumsum** para esto, en este ejercicio necesitamos determinar el \"lifetime value\" de cierto usuario en su 6to mes:\n"
      ]
    },
    {
      "cell_type": "code",
      "metadata": {
        "id": "QbBqxQR_axts",
        "colab": {
          "base_uri": "https://localhost:8080/"
        },
        "outputId": "012d5b62-4506-424e-a24b-022e67ff36b8"
      },
      "source": [
        "def lifetime_value(ganancias_mensuales):\n",
        "    ## tu codigo aqui(~ 1 linea de codigo):\n",
        "    return np.cumsum(ganancias_mensuales)\n",
        "\n",
        "# Prueba:\n",
        "ganancias_usuario = np.array([25,150,125,75,100,45,22,30])\n",
        "lifetime_value_usuario = lifetime_value(ganancias_usuario)\n",
        "\n",
        "print(\"Lifetime value:\",lifetime_value_usuario)\n",
        "\n",
        "print(\"El valor del usuario a su sexto mes es :\",lifetime_value_usuario[5])"
      ],
      "execution_count": 15,
      "outputs": [
        {
          "output_type": "stream",
          "text": [
            "Lifetime value: [ 25 175 300 375 475 520 542 572]\n",
            "El valor del usuario a su sexto mes es : 520\n"
          ],
          "name": "stdout"
        }
      ]
    },
    {
      "cell_type": "markdown",
      "metadata": {
        "id": "0x1fNi5Maxtt"
      },
      "source": [
        "Poseemos también la funcióm similar **np.cumprod** que multiplica de manera acumulativa los elementos de un vector."
      ]
    },
    {
      "cell_type": "code",
      "metadata": {
        "id": "oUGqlC42axtu",
        "colab": {
          "base_uri": "https://localhost:8080/"
        },
        "outputId": "c150cc73-42c8-4e1f-f61e-835beebf3893"
      },
      "source": [
        "print(np.cumprod(ganancias_usuario))"
      ],
      "execution_count": 16,
      "outputs": [
        {
          "output_type": "stream",
          "text": [
            "[             25            3750          468750        35156250\n",
            "      3515625000    158203125000   3480468750000 104414062500000]\n"
          ],
          "name": "stdout"
        }
      ]
    },
    {
      "cell_type": "markdown",
      "metadata": {
        "id": "7NGf_2y5axtu"
      },
      "source": [
        "#### Estadística descriptiva\n",
        "\n",
        "https://docs.scipy.org/doc/numpy-1.15.0/reference/routines.statistics.html"
      ]
    },
    {
      "cell_type": "markdown",
      "metadata": {
        "id": "Fn081ds-axty"
      },
      "source": [
        "**Ejercicio** Usando argmax crear una función mode(x) para calcular la moda de un vector x , esta función debe devolver una tupla de 2 elementos de la forma:\n",
        "\n",
        "(valor,conteo)\n",
        "\n",
        "**tip** investigar y auxiliarse de otras funciones de numpy y np.argmax, no olvidar trabajar todo vectorizado, sin ciclos."
      ]
    },
    {
      "cell_type": "code",
      "metadata": {
        "id": "W0Y0-ZZ-axty",
        "colab": {
          "base_uri": "https://localhost:8080/"
        },
        "outputId": "6473cd3c-e1c3-48ea-ac64-b2ff2510e4e0"
      },
      "source": [
        "def mode(x):\n",
        "    ## tu codigo aqui (~ 3 lineas de codigo):\n",
        "    unique_counts = np.unique(x, return_counts=True)[1]\n",
        "    i = np.argmax(unique_counts)\n",
        "    return x[i]\n",
        "print(x)    \n",
        "print(mode(x))"
      ],
      "execution_count": null,
      "outputs": [
        {
          "output_type": "stream",
          "text": [
            "[1 2 3 4 5 6 7 8 9 2 2]\n",
            "2\n"
          ],
          "name": "stdout"
        }
      ]
    },
    {
      "cell_type": "code",
      "metadata": {
        "id": "1cyToCNGpdA1"
      },
      "source": [
        "dist_a = np.array([0.3,0.5,0.2])"
      ],
      "execution_count": null,
      "outputs": []
    },
    {
      "cell_type": "markdown",
      "metadata": {
        "id": "OWnk9Eoeaxtz"
      },
      "source": [
        "**Ejercicio** : crear una función para calcular la entropía  de una distribución de probabilidad representada como un vector.\n",
        "$$S = -\\sum_i^nP(x_{i})log_{2}P(x_{i})$$\n",
        "\n",
        "**Nota**: a diferencia del ejercicio anterior donde solo calculamos los términos de la entropía, en este caso  si calculamos el valor completo de la entropía, que como mencionamos es una medida de incerteza en una distribución de probabilidad.\n",
        "\n",
        "**recordatorio**: no usar ciclos solo operaciones vectorizadas."
      ]
    },
    {
      "cell_type": "code",
      "metadata": {
        "id": "OaCUbbd_axtz"
      },
      "source": [
        "# tu codigo aqui (~ 3 lineas de codigo)\n",
        "def calcular_entropia(tensor):\n",
        "  return np.sum(calcular_terminos_entropia(tensor))\n"
      ],
      "execution_count": null,
      "outputs": []
    },
    {
      "cell_type": "code",
      "metadata": {
        "colab": {
          "base_uri": "https://localhost:8080/"
        },
        "id": "so2mqpAn0wRT",
        "outputId": "039ff55e-0996-4847-e32e-5537f8e0b49b"
      },
      "source": [
        "print(calcular_entropia(distribucion_prob2))\r\n",
        "print(calcular_entropia(distribucion_prob3))\r\n",
        "print(calcular_entropia(distribucion_prob4))\r\n",
        "print(calcular_entropia(distribucion_prob5))\r\n",
        "print(calcular_entropia(distribucion_prob6))\r\n",
        "print(calcular_entropia(distribucion_prob7))"
      ],
      "execution_count": null,
      "outputs": [
        {
          "output_type": "stream",
          "text": [
            "1.0\n",
            "nan\n",
            "0.00014426229037321482\n",
            "0.8112781244591328\n",
            "2.321928094887362\n",
            "2.1219280948873624\n"
          ],
          "name": "stdout"
        },
        {
          "output_type": "stream",
          "text": [
            "/usr/local/lib/python3.7/dist-packages/ipykernel_launcher.py:2: RuntimeWarning: divide by zero encountered in log2\n",
            "  \n",
            "/usr/local/lib/python3.7/dist-packages/ipykernel_launcher.py:3: RuntimeWarning: invalid value encountered in multiply\n",
            "  This is separate from the ipykernel package so we can avoid doing imports until\n"
          ],
          "name": "stderr"
        }
      ]
    },
    {
      "cell_type": "markdown",
      "metadata": {
        "id": "Ee4Z784maxt0"
      },
      "source": [
        "**Ejercicio**: En ML usamos la entropía cruzada como una forma de medir que tan bueno es un modelo de variables discretas a través de comparar la distribución de probabilidad que el modelo produce o predice, vs la distribución de probabilidad real dada por los datos de entrenamiento.\n",
        "\n",
        "Podemos ver el siguiente ejemplo que define la forma en que se calcula la entropía cruzada y nos muestra un caso específico:\n",
        "\n",
        "<img src=\"https://image.slidesharecdn.com/publishintroductiontodeeplearninginpythonandmatlab1-160502102437/95/introduction-to-deep-learning-in-python-and-matlab-54-638.jpg?cb=1462185644\">\n",
        "\n",
        "En este caso interpretamos así: El problema consiste en un modelo o algoritmo de ML que debe producir un vector de 3 elementos indicando la probabilidad de que ciertos datos X pertenezcan a una de 3 categorías.\n",
        "\n",
        "* El modelo de ML produce un vector que indica que estima un 70% de probabilidad de que se trate de la categoría 0, 20% de probabilidad de que se trate de la categoría 1 y 10% de que se trate de la categoría 2.\n",
        "* Los datos reales nos dicen que se trataba de un caso donde con total certeza se sabe que se trata de la categoría 0\n",
        "* La entropía cruzada(a calcular en el ejercicio) nos indica que tan buena es la estimación del modelo, una EC de 0 es un modelo perfecto(en este caso un modelo que predice 100% de prob para la clase 0)\n",
        "\n",
        "**Nota** \n",
        "* Aun que para calcular la entropía usamos logaritmos en base 2, en ML para calcular la entropía cruzada se usa logaritmo natural ya que con este se cumple el proposito **estimar que tanto se alejan las predicciones del modelo de ML de los datos reales** y es comunmente mas rápido de calcular en la computadora.\n",
        "* Ya que estamos trabajando con vectores que representan distribuciones de probabilidad , podemos toparnos con lo que se conoce como : **sparse vectors**(vectores donde la mayoría de elementos son 0), esto puede producir problemas ya que le logaritmo de 0 no esta definido, tu solución debe tomar en cuenta esto y evitar que devuelva \"nan\""
      ]
    },
    {
      "cell_type": "code",
      "metadata": {
        "id": "E1mfe9x6axt0",
        "colab": {
          "base_uri": "https://localhost:8080/"
        },
        "outputId": "cea37081-e79f-4c0f-f283-286afc1839c3"
      },
      "source": [
        "def cross_entropy(Y,Y_hat):\n",
        "    ##tu codigo aqui (~ 1 lineas de codigo)\n",
        "    return -1 * np.sum(Y_hat * np.log(Y, where=(Y!=0))) \n",
        "    \n",
        "    \n",
        "\n",
        "y  = np.array([1.0,0,0])\n",
        "y_hat = np.array([0.7,0.2,0.1]) # <- resultado de algun modelo predictivo\n",
        "\n",
        "cross_entropy(y,y_hat)"
      ],
      "execution_count": null,
      "outputs": [
        {
          "output_type": "execute_result",
          "data": {
            "text/plain": [
              "-0.05000000000000001"
            ]
          },
          "metadata": {
            "tags": []
          },
          "execution_count": 46
        }
      ]
    },
    {
      "cell_type": "markdown",
      "metadata": {
        "id": "XTSzWXdsaxt1"
      },
      "source": [
        "\n",
        "### Magnitud de un Vector(norma o módulo)\n",
        "\n",
        "**ejercicio** : crear una función que reciba como parámetro un vector x y calcule su magnitud o norma(euclidiana o L2) ,luego usarla para evaluar 2 vectores que representan los errores generados por 2 modelos de machine learning y concluir cual de los 2 modelos es mejor."
      ]
    },
    {
      "cell_type": "code",
      "metadata": {
        "id": "TyUB8hzKaxt1",
        "colab": {
          "base_uri": "https://localhost:8080/"
        },
        "outputId": "8b43e6e0-2297-4c58-f05a-c9f3ccb96e42"
      },
      "source": [
        "def magnitud(x):\n",
        "    ## tu codigo aqui (~ 1 linea de codigo)\n",
        "    return np.sqrt(np.sum(np.power(x,2))) # raiz cuadrada\n",
        "\n",
        "errores_modelo1 = np.array([1,2,1,2]) #\n",
        "errores_modelo2 = np.array([0,1,1,2]) #\n",
        "\n",
        "mag1 = magnitud(errores_modelo1)\n",
        "mag2 = magnitud(errores_modelo2)\n",
        "\n",
        "print(mag1)\n",
        "print(mag2)\n",
        "\n",
        "# elegir el mejor modelo con una condicional(if)\n",
        "if mag1 > mag2:\n",
        "  print(\"Elegir Modelo 2\")\n",
        "else:\n",
        "  print(\"Elegir Modelo 1\")"
      ],
      "execution_count": null,
      "outputs": [
        {
          "output_type": "stream",
          "text": [
            "3.1622776601683795\n",
            "2.449489742783178\n",
            "Elegir Modelo 2\n"
          ],
          "name": "stdout"
        }
      ]
    },
    {
      "cell_type": "markdown",
      "metadata": {
        "id": "7Jc1Cbuwaxt2"
      },
      "source": [
        "**ejercicio** Usando la función del ejercicio anterior, crea otra función normalizar(x) que reciba de parámetro un vector x aplique normalización sobre este, el resultado debe ser un nuevo vector del tamaño de x cuya magnitud es igual a 1.0"
      ]
    },
    {
      "cell_type": "code",
      "metadata": {
        "id": "t8tDRkdNaxt2",
        "colab": {
          "base_uri": "https://localhost:8080/"
        },
        "outputId": "ab67b08a-e2aa-4b5c-d06f-85fb358add03"
      },
      "source": [
        "def normalizar(x):\n",
        "    return x / magnitud(x)\n",
        "\n",
        "    \n",
        "    \n",
        "\n",
        "print(magnitud(normalizar(errores_modelo1)))\n",
        "print(normalizar(errores_modelo2))"
      ],
      "execution_count": null,
      "outputs": [
        {
          "output_type": "stream",
          "text": [
            "1.0\n",
            "[0.         0.40824829 0.40824829 0.81649658]\n"
          ],
          "name": "stdout"
        }
      ]
    },
    {
      "cell_type": "markdown",
      "metadata": {
        "id": "GGDfc5t_axt4"
      },
      "source": [
        "### Producto Punto(escalar,interno,interior) y Ortogonalidad"
      ]
    },
    {
      "cell_type": "markdown",
      "metadata": {
        "id": "W4MmQnBDaxt6"
      },
      "source": [
        "**Ejercicio aplicado en DS**\n",
        "Se tiene una red neuronal sencilla(y simplificada) como la de la siguiente imagen:\n",
        "<img src=\"https://www.oreilly.com/library/view/practical-convolutional-neural/9781788392303/assets/246151fb-7893-448d-b9bb-7a87b387a24b.png\">\n",
        "\n",
        "Donde:\n",
        "* INPUT LAYER: un vector X de tamaño = 2 que representa los datos de entrada\n",
        "* HIDDEN_LAYER :capa oculta con 2 neuronas definidas por los vectores:\n",
        "    * HL1 = [0.25,0.37]\n",
        "    * HL2 = [-8,14]\n",
        "* OUTPUT_LAYER = capa de salida definida por el vector [4,9]\n",
        "\n",
        "Crear una funcion neural_network(X) para calcular:\n",
        "* Calcule la salida de cada neurona en la capa intermedia aplicada a la capa de entrada.\n",
        "* Use el resultado del paso anterior como entrada para la neurona en la capa de salida\n",
        "\n",
        "Asumiendo que cada neurona identifica la similitud entre su entrada y la caracteística que representa concluir:\n",
        "* Para cada vector de entrada Xi , cual neurona intermedia busca la característica que mas se parece a X.\n",
        "* Cual vector de entrada Xi produce una activación alta(salida alta) en la capa de salida."
      ]
    },
    {
      "cell_type": "code",
      "metadata": {
        "id": "L0ri-Ex4axt7"
      },
      "source": [
        "# Aplicar la red neuronal sobre los siguientes datos X\n",
        "\n",
        "X1 = np.array([0.50,0.72])\n",
        "X2 = np.array([-4,7])\n",
        "X3 = np.zeros_like(X2)\n",
        "X4 = np.ones_like(X1)\n",
        "X5 = np.random.randn(X1.shape[0])\n",
        "\n",
        "def neural_network(x):\n",
        "  HL1 = np.array([0.25, 0.37])\n",
        "  HL2 = np.array([-8,14])\n",
        "  OUT = np.array([4,9])\n",
        "  val = np.array([np.dot(x, HL1), np.dot(x, HL2)])\n",
        "  print(f\"salida intermedia {val}\")\n",
        "  return np.dot(val, OUT)\n",
        "\n",
        "print(neural_network(X1)) #HL2\n",
        "print(neural_network(X2)) #HL2\n",
        "print(neural_network(X3)) # Ortogonales\n",
        "print(neural_network(X4)) # HL2\n",
        "print(neural_network(X5)) #HL1\n",
        "\n",
        "print(\"El vector X2 produce la activacion mas alta en la capa de salida.\")\n",
        "\n"
      ],
      "execution_count": null,
      "outputs": []
    },
    {
      "cell_type": "markdown",
      "metadata": {
        "id": "ChG4H50qaxt8"
      },
      "source": [
        "**Ejercicio aplicado en DS**: la correlación cruzada es una medida de similitud entre 2 funciones como resultado de \"desplazar\" una sobre la otra, comunmente es usada para encontrar características relevantes en una función desconocida o no controlada.\n",
        "\n",
        "En procesamiento de señales por ejemplo es usada para buscar y/o filtrar en una señal que varia en el tiempo cierta caracaterística de interés. Aveces es llamada también \"sliding dot product\" consiste en aplicar en cada punto de una función F el producto punto con cierta función G(comunmente mas corta) y luego \"deslizar\" G a un nuevo punto de la función, el resultado es una nueva función H que se interpreta como :**cuanto se parece** en cada punto la función F a la característica G. \n",
        "\n",
        "<img src=\"https://i.makeagif.com/media/11-25-2015/LZ9Ufj.gif\">\n",
        "\n",
        "En este ejercicio usamos correlación cruzada para calcular las medias moviles promediando 3 puntos que ya vimos en otro ejemplo:\n",
        "\n",
        "El primer paso es definir la función G que define el \"filtro\" a aplicar, para este caso consiste simplemente en un vector con 3 elementos donde cada elemento corresponde a 1/3, luego debemos aplicar el producto punto sobre cada punto de la función o datos originales(en este ejemplo llamados x) a traves aplicar el producto punto en cada elemento \"corriendolo\" de uno en uno"
      ]
    },
    {
      "cell_type": "code",
      "metadata": {
        "id": "SprJgc3-axt8",
        "colab": {
          "base_uri": "https://localhost:8080/"
        },
        "outputId": "40e42055-ee90-4a20-9889-3b31b186abd4"
      },
      "source": [
        "ruido = 0.1*np.random.randn(15) #el ruido comunmente se debe a aleatoriedad o captura no exacta de info.\n",
        "x = np.linspace(0,2*np.pi,15) \n",
        "y = np.sin(x) + ruido\n",
        "\n",
        "filtro = np.array([1/3,1/3,1/3]) #para lograr las medias moviles a traves de correlacion cruzada\n",
        "\n",
        "## tu codigo aqui (~ 3 linea de codigo)\n",
        "cum_y = np.cumsum(y)\n",
        "ys = np.hstack((y[0], np.convolve(y, filtro, mode=\"valid\"), y[-1]))\n",
        "\n",
        "print(y)\n",
        "print(ys)\n",
        "\n",
        "    \n",
        "\n"
      ],
      "execution_count": 19,
      "outputs": [
        {
          "output_type": "stream",
          "text": [
            "[ 0.08671307  0.37071564  0.75280828  0.93125152  1.04658709  0.65519166\n",
            "  0.37706367  0.0904822  -0.3403725  -0.85022076 -0.96943656 -0.91484622\n",
            " -0.63594724 -0.3031421  -0.05085141]\n",
            "[ 0.08671307  0.40341233  0.68492514  0.91021563  0.87767676  0.69294747\n",
            "  0.37424585  0.04239112 -0.36670369 -0.72000994 -0.91150118 -0.84007667\n",
            " -0.61797852 -0.32998025 -0.05085141]\n"
          ],
          "name": "stdout"
        }
      ]
    },
    {
      "cell_type": "markdown",
      "metadata": {
        "id": "kDBjb0iVaxuM"
      },
      "source": [
        "### Usando vectores booleanos para acceder elementos en otros vectores\n",
        "\n",
        "NumPy nos permite acceder vectores con otros vectores de tipo booleano,el resultado de esto es obtener de cierto vector solo los elementos cuya posición corresponde a un valor True en el vector booleano,\n",
        "con la sintáxis que usabamos para hacer indexing, pero usando un vector booleano como índice\n",
        "por ejemplo para el caso anterior:"
      ]
    },
    {
      "cell_type": "markdown",
      "metadata": {
        "id": "bh2gGHN5axuP"
      },
      "source": [
        "**Ejercicio** dado el vector x, usar operadores lógicos sobre vectores y acceso a  elementos usando vectores booleanos , escribir un programa que calcule eun nuevo vector z conteniendo el valor absoluto de el vector x.\n",
        "\n",
        "**nota** No se puede usar np.abs() ni ciclos\n",
        "\n",
        "**tip** usar un vector booleano para saber que elementos son negativos y deben ser multiplicados por -1"
      ]
    },
    {
      "cell_type": "code",
      "metadata": {
        "id": "_dDKWFiGaxuQ",
        "colab": {
          "base_uri": "https://localhost:8080/"
        },
        "outputId": "c9e1d875-7d24-493f-d0ad-520c062fb8e5"
      },
      "source": [
        "x = np.linspace(-2,2,9)\n",
        "\n",
        "\n",
        "## tu codigo aqui (~ 4 linea de codigo)\n",
        "### ver cuales elementos son negativos <- vector booleanos\n",
        "### multiplicar esos elementos por -1\n",
        "### usando el vector del rpimer paso remplazar los que eran negativos por su valor calculado en paso 2\n",
        "print(x)\n",
        "negative = x < 0\n",
        "x[negative] = x[negative] * -1\n",
        "print(x)\n",
        "\n"
      ],
      "execution_count": null,
      "outputs": [
        {
          "output_type": "stream",
          "text": [
            "[-2.  -1.5 -1.  -0.5  0.   0.5  1.   1.5  2. ]\n",
            "[2.  1.5 1.  0.5 0.  0.5 1.  1.5 2. ]\n"
          ],
          "name": "stdout"
        }
      ]
    },
    {
      "cell_type": "markdown",
      "metadata": {
        "id": "Vs8b8-MSaxuQ"
      },
      "source": [
        "**ejercicio** Implementar la función:\n",
        "$$h(x) = \\begin{cases}0 & x< 0\\\\1 & 0<=x <=1\\\\0 & x> 1\\end{cases}$$\n",
        "\n",
        "Esta debe funcionar para vectores de cualquier tamaño x:\n",
        "\n",
        "def h(x):\n",
        "\n",
        "    ...\n",
        "\n",
        "**nota** debe ser implementada sin ciclos o ifs "
      ]
    },
    {
      "cell_type": "code",
      "metadata": {
        "id": "5owYOClVaxuR",
        "colab": {
          "base_uri": "https://localhost:8080/"
        },
        "outputId": "ac2ae888-9c70-4fb8-c7ec-6407d4448288"
      },
      "source": [
        "def h(x):\n",
        "    ## tu codigo aqui (~ 3 linea de codigo)\n",
        "    return np.logical_and(0 <= x, x <=1).astype(int)\n",
        "\n",
        "x = np.array([0.1,-2,0.5,5])\n",
        "print(h(x))"
      ],
      "execution_count": null,
      "outputs": [
        {
          "output_type": "stream",
          "text": [
            "[1 0 1 0]\n"
          ],
          "name": "stdout"
        }
      ]
    },
    {
      "cell_type": "markdown",
      "metadata": {
        "id": "yhrWu8q0axuU"
      },
      "source": [
        "**Ejercicio**\n",
        "\n",
        "Usando select implementar una función k(x) con la siguiente definición:\n",
        "$$k(x) = \\begin{cases}-x & x< 0\\\\x^{3}  &0<=x<1\\\\x^{2}  &1<=x<2\\\\4  &otherwise\\end{cases}$$\n",
        "\n"
      ]
    },
    {
      "cell_type": "code",
      "metadata": {
        "colab": {
          "base_uri": "https://localhost:8080/"
        },
        "id": "4AgY-Uh6RTPr",
        "outputId": "b1193ba6-83d2-4cc5-c66e-a61544ea289c"
      },
      "source": [
        "def k(x):\r\n",
        "  condiciones = [x<0,np.logical_and(0<=x, x < 1),np.logical_and(1<=x, x < 2)]\r\n",
        "  resultados =  [-1 * x ,  x**3, x**2]\r\n",
        "  return np.select(condiciones,resultados,4)\r\n",
        "\r\n",
        "x = np.linspace(0,10,10)\r\n",
        "print(x)\r\n",
        "k(x)"
      ],
      "execution_count": null,
      "outputs": [
        {
          "output_type": "stream",
          "text": [
            "[ 0.          1.11111111  2.22222222  3.33333333  4.44444444  5.55555556\n",
            "  6.66666667  7.77777778  8.88888889 10.        ]\n"
          ],
          "name": "stdout"
        },
        {
          "output_type": "execute_result",
          "data": {
            "text/plain": [
              "array([0.       , 1.2345679, 4.       , 4.       , 4.       , 4.       ,\n",
              "       4.       , 4.       , 4.       , 4.       ])"
            ]
          },
          "metadata": {
            "tags": []
          },
          "execution_count": 101
        }
      ]
    },
    {
      "cell_type": "markdown",
      "metadata": {
        "id": "oO-8WZXCaxuV"
      },
      "source": [
        "##### Select y performance\n",
        "Aun que select es muy conveniente y útil , no es la opción mas eficiente esto debido a que evalua todas las condiciones y todos los resultados, en programación en general buscamos escribir los programas de la manera mas eficiente posible y evitar calculos innecesarios, esto se vuelve vital en ciencia de datos cuando procesamos grandes volúmenes de información, por eso NumPy nos provee la alternativa a select llamada **piecewise** que funciona de manera similar .\n",
        "\n",
        "\n",
        "Este funciona similar a select pero en vez de calcular todos los posibles resultados, calcula solo aquellos para los que la condición es True e ignora los False,sintácticamente piecewise requiere que los \"resultados\" sesan calcuados usando una lista de funciones por lo cual todos los resultados deben estar contenidos en una función  y el objeto función ser enviado a piecewise (si la función solo se utiliza una vez para este propósito, se puede usar funciones anónimas o lambda).\n",
        "\n",
        "**Ejercicio** \n",
        "Investigar piecewise y:\n",
        "*  Usarlo para implementar la función anterior de manera eficiente\n",
        "*  Usar piscewise para implementar la función:\n",
        "\n",
        "$$m(x) = \\begin{cases}e^{2x} & x< 0\\\\1  &0<=x<1\\\\e^{1-x}  &x<=1\\\\\\end{cases}$$\n",
        "\n",
        "Nuevamente, sin utilizar ciclos ni ifs"
      ]
    },
    {
      "cell_type": "code",
      "metadata": {
        "colab": {
          "base_uri": "https://localhost:8080/"
        },
        "id": "ROxr8wgbSdYJ",
        "outputId": "ee9b8f25-9b1f-41b8-fdab-64f20595d824"
      },
      "source": [
        "def m(x):\r\n",
        "  np.piecewise(x, [x < 0, np.logical_and(0<=x, x<1), x<=1], [lambda n: np.e ** (2*n), 1, lambda n: np.e ** (1-n)])\r\n",
        "\r\n",
        "x = np.linspace(0,10,10)\r\n",
        "print(x)\r\n",
        "m(x)"
      ],
      "execution_count": null,
      "outputs": [
        {
          "output_type": "stream",
          "text": [
            "[ 0.          1.11111111  2.22222222  3.33333333  4.44444444  5.55555556\n",
            "  6.66666667  7.77777778  8.88888889 10.        ]\n"
          ],
          "name": "stdout"
        }
      ]
    },
    {
      "cell_type": "markdown",
      "metadata": {
        "id": "QcxPsDpr1eAP"
      },
      "source": [
        "#### Investigar\r\n",
        "\r\n",
        "* Proyección vectorial\r\n",
        "    * Definir una función para calculo en numpy\r\n",
        "    * interpretación\r\n",
        "    * aplicación o caso de uso en DS u otras ciencias de tu interés: solo se necesita nombrar el caso de uso, no desarrollarlo o programarlo, tip: Hay un algoritmo de ML cuyo nombre puede ser  útil.\r\n",
        "* Producto cruz\r\n",
        "    * calculo en numpy\r\n",
        "    * interpretación\r\n",
        "    * aplicación o caso de uso en DS u otras ciencias de tu interés: solo se necesita nombrar el caso de uso, no desarrollarlo o programarlo\r\n",
        "    \r\n",
        "#### Referencias\r\n",
        "\r\n",
        "* https://www.oreilly.com/library/view/data-science-from/9781491901410/ch04.html\r\n",
        "* https://towardsdatascience.com/linear-algebra-cheat-sheet-for-deep-learning-cd67aba4526c\r\n",
        "* https://www.analyticsvidhya.com/blog/2017/05/comprehensive-guide-to-linear-algebra/\r\n",
        "* https://towardsdatascience.com/boost-your-data-sciences-skills-learn-linear-algebra-2c30fdd008cf\r\n",
        "* https://machinelearningmastery.com/examples-of-linear-algebra-in-machine-learning/\r\n",
        "* https://www.youtube.com/playlist?list=PLZHQObOWTQDPD3MizzM2xVFitgF8hE_ab"
      ]
    },
    {
      "cell_type": "markdown",
      "metadata": {
        "id": "9m_TNzhctAqd"
      },
      "source": [
        "### Proyeccion Vectorial\r\n"
      ]
    }
  ]
}